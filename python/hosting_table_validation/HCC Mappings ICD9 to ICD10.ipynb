{
 "cells": [
  {
   "cell_type": "code",
   "execution_count": 4,
   "metadata": {
    "collapsed": false
   },
   "outputs": [],
   "source": [
    "hcc_mappings = {}\n",
    "\n",
    "# ICD9 Codes\n",
    "icd9_mappings = [line.split(',') for line in open('code_mappings/icd9_mappings.csv').readlines()]\n",
    "\n",
    "for icd9_mapping in icd9_mappings[1:]:\n",
    "    icd9_code = icd9_mapping[0].strip()         # DIAGNOSIS CODE\n",
    "    desc = icd9_mapping[1].strip()              # SHORT DESCRIPTION\n",
    "    hcc_category_2013 = icd9_mapping[2].strip() # 2013 CMS-HCC Model Category\n",
    "    hcc_category_pace = icd9_mapping[3].strip() # CMS-HCC PACE/ESRD Model Category\n",
    "    hcc_category_2014 = icd9_mapping[4].strip() # 2014 CMS-HCC Model Category\n",
    "    hcc_category_rx = icd9_mapping[5].strip()   # RxHCC Model Category\n",
    "    hcc_model_2013 = icd9_mapping[6].strip()    # 2013 CMS-HCC Model for 2014 Payment Year\n",
    "    hcc_model_pace = icd9_mapping[7].strip()    # CMS-HCC PACE/ESRD Model for 2014 Payment Year\n",
    "    hcc_model_2014 = icd9_mapping[8].strip()    # 2014 CMS-HCC Model for 2014 Payment Year\n",
    "    hcc_model_rx = icd9_mapping[9].strip()      # RxHCC Model for 2014 Payment Year\n",
    "\n",
    "    hcc_keys = []\n",
    "    if hcc_model_2013 == 'Yes':\n",
    "        hcc_keys.append('V12-' + hcc_category_2013)\n",
    "    if hcc_model_2014 == 'Yes':\n",
    "        hcc_keys.append('V22-' + hcc_category_2014)\n",
    "        \n",
    "    for key in hcc_keys:\n",
    "        mapping = hcc_mappings[key] if key in hcc_mappings else {'icd9s':set(),'icd10s':set()}\n",
    "        mapping['icd9s'].add(icd9_code)\n",
    "        hcc_mappings[key] = mapping\n",
    "\n",
    "# ICD10 Codes\n",
    "icd10_mappings = [line.split(',') for line in open('code_mappings/icd10_mappings.csv').readlines()]\n",
    "\n",
    "for icd10_mapping in icd10_mappings[1:]:\n",
    "    icd10_code = icd10_mapping[0].strip()         # Diagnosis Code\n",
    "    desc = icd10_mapping[1].strip()               # Description\n",
    "    hcc_category_v21 = icd10_mapping[2].strip()   # CMS-HCC PACE/ESRD Model Category V21\n",
    "    hcc_category_v22 = icd10_mapping[3].strip()   # CMS-HCC Model Category V22\n",
    "    hcc_category_v05 = icd10_mapping[4].strip()   # RxHCC Model Category V05 (clinically revised model implemented in 2016)\n",
    "    hcc_model_v21 = icd10_mapping[5].strip()      # CMS-HCC PACE/ESRD Model for 2016 Payment Year\n",
    "    hcc_model_v22 = icd10_mapping[6].strip()      # CMS-HCC Model for 2016 Payment Year\n",
    "    hcc_model_v05 = icd10_mapping[7].strip()      # RxHCC Model for 2016 Payment Year\n",
    "\n",
    "    hcc_keys = []\n",
    "    if hcc_model_v22 == 'Yes':\n",
    "        hcc_keys.append('V22-' + hcc_category_v22)\n",
    "        \n",
    "    for key in hcc_keys:\n",
    "        mapping = hcc_mappings[key] if key in hcc_mappings else {'icd9s':set(),'icd10s':set()}\n",
    "        mapping['icd10s'].add(icd10_code)\n",
    "        hcc_mappings[key] = mapping"
   ]
  },
  {
   "cell_type": "code",
   "execution_count": 56,
   "metadata": {
    "collapsed": false
   },
   "outputs": [],
   "source": [
    "import re\n",
    "\n",
    "# ICD9 to ICD10 GEM\n",
    "i9gems = [list(re.findall('(\\S+)\\s+(\\S+)\\s+(\\S+)', line)[0]) for line in open('code_mappings/2016_I9gem.txt').readlines()]\n",
    "\n",
    "icd9_to_icd10_mapping = {}\n",
    "for i9gem in i9gems:\n",
    "    icd9_code = i9gem[0]\n",
    "    icd10_code = i9gem[1]\n",
    "    flags = i9gem[2]\n",
    "    \n",
    "    approximate = flags[0] == '1'\n",
    "    no_map = flags[1] == '1'\n",
    "    combination = flags[2] == '1'\n",
    "    scenario = flags[3]\n",
    "    choice_list = flags[4]\n",
    "    \n",
    "    mapping = icd9_to_icd10_mapping[icd9_code] if icd9_code in icd9_to_icd10_mapping else []\n",
    "    icd9_to_icd10 = {'icd10':icd10_code,\n",
    "                     'approximate':approximate,\n",
    "                     'no_map':no_map,\n",
    "                     'combination':combination,\n",
    "                     'scenario':scenario,\n",
    "                     'choice_list':choice_list}\n",
    "    mapping.append(icd9_to_icd10)\n",
    "    icd9_to_icd10_mapping[icd9_code] = mapping\n"
   ]
  },
  {
   "cell_type": "code",
   "execution_count": 100,
   "metadata": {
    "collapsed": true
   },
   "outputs": [],
   "source": [
    "import re\n",
    "\n",
    "# ICD9 to ICD10 GEM\n",
    "i10gems = [list(re.findall('(\\S+)\\s+(\\S+)\\s+(\\S+)', line)[0]) for line in open('code_mappings/2016_I10gem.txt').readlines()]\n",
    "\n",
    "icd10_to_icd9_mapping = {}\n",
    "for i10gem in i10gems:\n",
    "    icd10_code = i10gem[0]\n",
    "    icd9_code = i10gem[1]\n",
    "    flags = i10gem[2]\n",
    "    \n",
    "    approximate = flags[0] == '1'\n",
    "    no_map = flags[1] == '1'\n",
    "    combination = flags[2] == '1'\n",
    "    scenario = flags[3]\n",
    "    choice_list = flags[4]\n",
    "    \n",
    "    mapping = icd10_to_icd9_mapping[icd10_code] if icd10_code in icd10_to_icd9_mapping else []\n",
    "    icd10_to_icd9 = {'icd9':icd9_code,\n",
    "                     'approximate':approximate,\n",
    "                     'no_map':no_map,\n",
    "                     'combination':combination,\n",
    "                     'scenario':scenario,\n",
    "                     'choice_list':choice_list}\n",
    "    mapping.append(icd10_to_icd9)\n",
    "    icd10_to_icd9_mapping[icd10_code] = mapping\n"
   ]
  },
  {
   "cell_type": "code",
   "execution_count": 102,
   "metadata": {
    "collapsed": false
   },
   "outputs": [
    {
     "name": "stdout",
     "output_type": "stream",
     "text": [
      "then how did we get multiple icd9s!\n",
      "6267\n",
      "256\n",
      "825\n",
      "1\n",
      "7277\n"
     ]
    }
   ],
   "source": [
    "icd10_stats = {'exact':{},\n",
    "              'no_map':set(),\n",
    "              'simple':{},\n",
    "              'combination':{},\n",
    "              'scenario':0,\n",
    "              'choice_list':0}\n",
    "\n",
    "for icd10 in all_icd10s:\n",
    "    icd9s_from_icd10 = icd10_to_icd9_mapping[icd10]\n",
    "    simple = set()\n",
    "    for icd9_from_icd10 in icd9s_from_icd10:\n",
    "        # if this is not approximate, then we have an exact match!\n",
    "        if not icd9_from_icd10['approximate']:\n",
    "            if len(icd9s_from_icd10) == 1:\n",
    "                icd10_stats['exact'][icd10] = icd9_from_icd10['icd9']\n",
    "            else:\n",
    "                print 'then how did we get multiple icd9s!'\n",
    "            #counts['approximate'] += 1\n",
    "        elif icd9_from_icd10['no_map']:\n",
    "            icd10_stats['no_map'].add(icd10)\n",
    "        else:    \n",
    "            if icd9_from_icd10['combination']:\n",
    "                combinations = icd10_stats['combination'][icd10] if icd10 in icd10_stats['combination'] else []\n",
    "                combinations.append(icd9_from_icd10)\n",
    "                icd10_stats['combination'][icd10] = combinations\n",
    "            else:\n",
    "                simple.add(icd9_from_icd10['icd9'])\n",
    "            #    counts['combination'] += 1\n",
    "            #if icd10_from_icd9['scenario']:\n",
    "            #    counts['scenario'] += 1\n",
    "            #if icd10_from_icd9['choice_list']:\n",
    "            #    counts['choice_list'] += 1\n",
    "    if len(simple) == 1:\n",
    "        icd10_stats['exact'][icd10] = next(iter(simple))\n",
    "    elif len(simple) > 1:\n",
    "        icd10_stats['simple'][icd10] = simple\n",
    "\n",
    "# 7277 total \n",
    "# 6267 exact mappings\n",
    "# 256 simple mappings\n",
    "# 825 combination\n",
    "# 1 no map\n",
    "\n",
    "print len(icd10_stats['exact'])\n",
    "print len(icd10_stats['simple'])\n",
    "print(len(icd10_stats['combination']))\n",
    "print(len(icd10_stats['no_map']))\n",
    "print(len(all_icd10s))\n",
    "#pprint(icd10_stats['combination'])"
   ]
  },
  {
   "cell_type": "code",
   "execution_count": null,
   "metadata": {
    "collapsed": false
   },
   "outputs": [],
   "source": [
    "from pprint import pprint\n",
    "icd9_to_icd10_same_hcc = {}\n",
    "for hcc in hcc_mappings:\n",
    "    icd9s = hcc_mappings[hcc]['icd9s']\n",
    "    icd10s =hcc_mappings[hcc]['icd10s']\n",
    "    icd10s_from_icd9s = set()\n",
    "    for icd9 in icd9s:\n",
    "        icd10s_from_icd9 = icd9_to_icd10_mapping[icd9]\n",
    "        for icd10_from_icd9 in icd10s_from_icd9:\n",
    "            icd10_code = icd10_from_icd9['icd10']\n",
    "            icd10s_from_icd9s.add(icd10_code)\n",
    "        \n",
    "    for icd10 in icd10s_from_icd9s:\n",
    "        if icd10 not in icd10s:\n",
    "            print icd10 + ' not in original set'\n",
    "        else:\n",
    "            print icd10 + ' in original set'\n",
    "    break"
   ]
  },
  {
   "cell_type": "code",
   "execution_count": 62,
   "metadata": {
    "collapsed": false
   },
   "outputs": [
    {
     "name": "stdout",
     "output_type": "stream",
     "text": [
      "3161\n",
      "7277\n"
     ]
    }
   ],
   "source": [
    "all_icd9s = set()\n",
    "all_icd10s = set()\n",
    "for hcc in hcc_mappings:\n",
    "    for icd9 in hcc_mappings[hcc]['icd9s']:\n",
    "        all_icd9s.add(icd9)\n",
    "    for icd10 in hcc_mappings[hcc]['icd10s']:\n",
    "        all_icd10s.add(icd10)\n",
    "print len(all_icd9s)\n",
    "print len(all_icd10s)"
   ]
  },
  {
   "cell_type": "code",
   "execution_count": 104,
   "metadata": {
    "collapsed": false
   },
   "outputs": [
    {
     "name": "stdout",
     "output_type": "stream",
     "text": [
      "2176\n",
      "519\n",
      "440\n",
      "27\n",
      "3161\n"
     ]
    }
   ],
   "source": [
    "icd9_stats = {'exact':{},\n",
    "              'no_map':set(),\n",
    "              'simple':{},\n",
    "              'combination':{},\n",
    "              'scenario':0,\n",
    "              'choice_list':0}\n",
    "\n",
    "for icd9 in all_icd9s:\n",
    "    icd10s_from_icd9 = icd9_to_icd10_mapping[icd9]\n",
    "    simple = set()\n",
    "    for icd10_from_icd9 in icd10s_from_icd9:\n",
    "        # if this is not approximate, then we have an exact match!\n",
    "        if not icd10_from_icd9['approximate']:\n",
    "            if len(icd10s_from_icd9) == 1:\n",
    "                icd9_stats['exact'][icd9] = icd10_from_icd9['icd10']\n",
    "            else:\n",
    "                print 'then how did we get multiple icd10s!'\n",
    "            #counts['approximate'] += 1\n",
    "        elif icd10_from_icd9['no_map']:\n",
    "            icd9_stats['no_map'].add(icd9)\n",
    "        else:    \n",
    "            if icd10_from_icd9['combination']:\n",
    "                combinations = icd9_stats['combination'][icd9] if icd9 in icd9_stats['combination'] else []\n",
    "                combinations.append(icd10_from_icd9)\n",
    "                icd9_stats['combination'][icd9] = combinations\n",
    "            else:\n",
    "                simple.add(icd10_from_icd9['icd10'])\n",
    "            #    counts['combination'] += 1\n",
    "            #if icd10_from_icd9['scenario']:\n",
    "            #    counts['scenario'] += 1\n",
    "            #if icd10_from_icd9['choice_list']:\n",
    "            #    counts['choice_list'] += 1\n",
    "    if len(simple) == 1:\n",
    "        icd9_stats['exact'][icd9] = next(iter(simple))\n",
    "    elif len(simple) > 1:\n",
    "        icd9_stats['simple'][icd9] = simple\n",
    "\n",
    "# 3161 total ICD9 codes\n",
    "# 2176 exact mappings\n",
    "# 519 simple mappings\n",
    "# 440 cluster mappings\n",
    "# 27 no mappings\n",
    "print(len(all_icd9s))\n",
    "print len(icd9_stats['exact'])\n",
    "print len(icd9_stats['simple'])\n",
    "print(len(icd9_stats['combination']))\n",
    "print(len(icd9_stats['no_map']))\n",
    "\n"
   ]
  },
  {
   "cell_type": "code",
   "execution_count": 105,
   "metadata": {
    "collapsed": false
   },
   "outputs": [],
   "source": [
    "#print icd9_stats['simple']['24951']\n",
    "#print icd9_stats['combination']['24951']\n",
    "#print icd9_stats['combination']['']\n",
    "#for icd9 in icd9_stats['simple']:\n",
    "#    if icd9 in icd9_stats['combination']:\n",
    "#        print icd9\n",
    "# Only code 24951 has both simple mappings and combination mappings\n",
    "# simple mappings (once checked for reversal), could potentially be enabled via\n",
    "# row duplication on the icd9 code"
   ]
  },
  {
   "cell_type": "code",
   "execution_count": null,
   "metadata": {
    "collapsed": true
   },
   "outputs": [],
   "source": [
    "# Analysis:\n",
    "# Which ICD codes are a 1-1 match\n",
    "# Which ICD codes exist on ICD 9 and not 10\n",
    "# Which ICD codes exist on ICD 10 and not 9\n",
    "# Which ICD9s map to multiple 10s\n",
    "# Which ICD10s map to multiple 9s\n",
    "# Which set of ICD10s and ICD9s that have many to many mapping"
   ]
  }
 ],
 "metadata": {
  "kernelspec": {
   "display_name": "Python 2",
   "language": "python",
   "name": "python2"
  },
  "language_info": {
   "codemirror_mode": {
    "name": "ipython",
    "version": 2
   },
   "file_extension": ".py",
   "mimetype": "text/x-python",
   "name": "python",
   "nbconvert_exporter": "python",
   "pygments_lexer": "ipython2",
   "version": "2.7.9"
  }
 },
 "nbformat": 4,
 "nbformat_minor": 0
}
